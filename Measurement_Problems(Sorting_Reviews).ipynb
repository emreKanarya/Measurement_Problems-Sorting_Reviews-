{
 "cells": [
  {
   "cell_type": "markdown",
   "id": "4e79b99e",
   "metadata": {},
   "source": [
    "# Üst - Alt Farkı Skoru(Up-Down Differnce Score)"
   ]
  },
  {
   "cell_type": "code",
   "execution_count": 40,
   "id": "67c5ebc1",
   "metadata": {},
   "outputs": [],
   "source": [
    "import pandas as pd\n",
    "import cmath\n",
    "import scipy.stats as st"
   ]
  },
  {
   "cell_type": "code",
   "execution_count": 4,
   "id": "7a9ec968",
   "metadata": {},
   "outputs": [],
   "source": [
    "pd.set_option(\"display.max_columns\", None)\n",
    "pd.set_option(\"display.expand_frame_repr\", False)\n",
    "pd.set_option(\"display.float_format\", lambda x: '%.5f' % x)"
   ]
  },
  {
   "cell_type": "code",
   "execution_count": null,
   "id": "1adc63bc",
   "metadata": {},
   "outputs": [],
   "source": []
  },
  {
   "cell_type": "markdown",
   "id": "e602f5ea",
   "metadata": {},
   "source": [
    "Öncelikle yanlış yapılan yöntemleri görelim:"
   ]
  },
  {
   "cell_type": "code",
   "execution_count": null,
   "id": "858bc1df",
   "metadata": {},
   "outputs": [],
   "source": []
  },
  {
   "cell_type": "code",
   "execution_count": 1,
   "id": "048a538c",
   "metadata": {},
   "outputs": [],
   "source": [
    "#Yöntem-1\n",
    "#######################################################\n",
    "# Up-Down Diff Score = (up ratings) -(down ratings)\n",
    "#######################################################"
   ]
  },
  {
   "cell_type": "code",
   "execution_count": null,
   "id": "54087c5f",
   "metadata": {},
   "outputs": [],
   "source": [
    "#Soru: Elimde iki tane review(yorum) var. Birinci yorum 600 tane up(beğeni) almış, 400 tane down(dislike) almış.\n",
    "                                         #İkinci yorum 5500 up(beğeni), 4500 down(dislike) almış. Bunlardan hangisini tercih edersiniz?\n",
    "        \n",
    "#Review 1: 600 up 400 down total 1000\n",
    "#Review 2: 5500 up 4500 down total 10000    "
   ]
  },
  {
   "cell_type": "code",
   "execution_count": 18,
   "id": "d919a30a",
   "metadata": {},
   "outputs": [],
   "source": [
    "#Formülasyon:\n",
    "def score_up_down_diff(up, down):\n",
    "    return up - down"
   ]
  },
  {
   "cell_type": "code",
   "execution_count": 7,
   "id": "0900014b",
   "metadata": {},
   "outputs": [
    {
     "data": {
      "text/plain": [
       "200"
      ]
     },
     "execution_count": 7,
     "metadata": {},
     "output_type": "execute_result"
    }
   ],
   "source": [
    "#Birinci yorumun skoruna bakalım:\n",
    "score_up_down_diff(600, 400)    "
   ]
  },
  {
   "cell_type": "code",
   "execution_count": 8,
   "id": "a78f9a7a",
   "metadata": {},
   "outputs": [
    {
     "data": {
      "text/plain": [
       "1000"
      ]
     },
     "execution_count": 8,
     "metadata": {},
     "output_type": "execute_result"
    }
   ],
   "source": [
    "#İkinci yorumun skoruna bakalım:\n",
    "score_up_down_diff(5500, 4500)  "
   ]
  },
  {
   "cell_type": "markdown",
   "id": "423b3eab",
   "metadata": {},
   "source": [
    "Şimdi bu sonuçlara göre hangi yorumu yukarıda tutardınız?\n",
    "Review 2 gibi gözüküyor fakat birincisi %60 pozitif skor, ikincisi %55 pozitif skor yani birinciyi seçmek daha iyi olacak. Yani yüzdelikten dolayı birinci review  kazanmaktadır. Dolaysıyla up down yöntemi ile iki tane değer üzerinden böyle bir fark işlemi yapmak yeteri kadar doğru olmamaktadır."
   ]
  },
  {
   "cell_type": "code",
   "execution_count": null,
   "id": "6166bd37",
   "metadata": {},
   "outputs": [],
   "source": []
  },
  {
   "cell_type": "code",
   "execution_count": null,
   "id": "d8f8666d",
   "metadata": {},
   "outputs": [],
   "source": []
  },
  {
   "cell_type": "code",
   "execution_count": 10,
   "id": "4c873bfb",
   "metadata": {},
   "outputs": [],
   "source": [
    "#Yöntem-2\n",
    "#######################################################\n",
    "# Score = Average rating = (up ratings) / (all ratings)\n",
    "#######################################################\n",
    "#Yani up bölü bütün rating puanları dediğimizde elimizde pozitif ratinglerin yani begendim denilenlerin oranı olacaktır."
   ]
  },
  {
   "cell_type": "code",
   "execution_count": null,
   "id": "fce8078f",
   "metadata": {},
   "outputs": [],
   "source": []
  },
  {
   "cell_type": "code",
   "execution_count": 21,
   "id": "fe65342c",
   "metadata": {},
   "outputs": [],
   "source": [
    "#Formülasyon:\n",
    "def score_average_rating(up, down):\n",
    "    if up + down ==0:\n",
    "        return 0\n",
    "    return up / (up + down)"
   ]
  },
  {
   "cell_type": "code",
   "execution_count": 14,
   "id": "60edf324",
   "metadata": {},
   "outputs": [
    {
     "data": {
      "text/plain": [
       "0.6"
      ]
     },
     "execution_count": 14,
     "metadata": {},
     "output_type": "execute_result"
    }
   ],
   "source": [
    "#Değerlendirelim: İlk yorum için bir skor hesabı yapalım:\n",
    "score_average_rating(600, 400)       "
   ]
  },
  {
   "cell_type": "code",
   "execution_count": null,
   "id": "f81e3979",
   "metadata": {},
   "outputs": [],
   "source": []
  },
  {
   "cell_type": "code",
   "execution_count": 15,
   "id": "48e974ee",
   "metadata": {},
   "outputs": [
    {
     "data": {
      "text/plain": [
       "0.55"
      ]
     },
     "execution_count": 15,
     "metadata": {},
     "output_type": "execute_result"
    }
   ],
   "source": [
    "#İkincisi için skor hesabı yapalım:\n",
    "score_average_rating(5500, 4500)"
   ]
  },
  {
   "cell_type": "code",
   "execution_count": null,
   "id": "9dc7479d",
   "metadata": {},
   "outputs": [],
   "source": []
  },
  {
   "cell_type": "markdown",
   "id": "669f0dd7",
   "metadata": {},
   "source": [
    "Sonuç: Faydalılık oranı fazla çıkan ilk yorum oldu."
   ]
  },
  {
   "cell_type": "code",
   "execution_count": null,
   "id": "5e6ed90a",
   "metadata": {},
   "outputs": [],
   "source": []
  },
  {
   "cell_type": "markdown",
   "id": "c6eb40a8",
   "metadata": {},
   "source": [
    "Başka senaryolar ile bu yöntemi deneylim bakalım:\n",
    "İki tane yorumumuz var:\n",
    "1) Review 1: 2 up 0 down total 2\n",
    "2) Review 2: 100 up 1 down total 101    "
   ]
  },
  {
   "cell_type": "code",
   "execution_count": 16,
   "id": "22ed62fd",
   "metadata": {},
   "outputs": [
    {
     "data": {
      "text/plain": [
       "1.0"
      ]
     },
     "execution_count": 16,
     "metadata": {},
     "output_type": "execute_result"
    }
   ],
   "source": [
    "#score_average_rating bakalım birinci senaryo için ne verecek?\n",
    "score_average_rating(2, 0)"
   ]
  },
  {
   "cell_type": "code",
   "execution_count": 17,
   "id": "5c31d7f8",
   "metadata": {},
   "outputs": [
    {
     "data": {
      "text/plain": [
       "0.9900990099009901"
      ]
     },
     "execution_count": 17,
     "metadata": {},
     "output_type": "execute_result"
    }
   ],
   "source": [
    "#score_average_rating bakalım ikinci senaryo için ne verecek?\n",
    "score_average_rating(100, 1)"
   ]
  },
  {
   "cell_type": "code",
   "execution_count": null,
   "id": "445e77eb",
   "metadata": {},
   "outputs": [],
   "source": []
  },
  {
   "cell_type": "markdown",
   "id": "187f3238",
   "metadata": {},
   "source": [
    "Sonuç:\n",
    "Bu sonuçlara göre iki yorumdan hangisi tercih edilir? Birinci yorum tercih edilir. Fakat gerçekten o mu kazanmalı? Hayır. Yöntem-2 de patlamış gibi görünüyor. Sayı yüksekliğini, frekans yüksekliğini göz önünde bulunduramadı."
   ]
  },
  {
   "cell_type": "code",
   "execution_count": null,
   "id": "23dca78f",
   "metadata": {},
   "outputs": [],
   "source": []
  },
  {
   "cell_type": "markdown",
   "id": "904ab5a2",
   "metadata": {},
   "source": [
    "!!!!!!!!!!\n",
    "Öyle bir işlem yapmam lazım ki hem oran bilgisi hem frekans bilgisi eş zamanlı göz önünde bulundurulabilecek şekilde bir sıralama skoru elde edelim. Bu yönteme aşağıda bakalım."
   ]
  },
  {
   "cell_type": "code",
   "execution_count": null,
   "id": "5b5e42cd",
   "metadata": {},
   "outputs": [],
   "source": []
  },
  {
   "cell_type": "code",
   "execution_count": 3,
   "id": "2d11ce08",
   "metadata": {},
   "outputs": [],
   "source": [
    "######################################\n",
    "# Wilson Lower Bound Score\n",
    "######################################\n"
   ]
  },
  {
   "cell_type": "markdown",
   "id": "521ef22f",
   "metadata": {},
   "source": [
    "Bu yöntem ikili interaction lar, etkileşimler(\"Like- Dislike\" vb.) sonucu ortaya çıkan bütün ölçme problemlerinde bize yardımı dokunur. Daha teknik olarak bakacak olursak bir bernoulli parametresi p ile ilgili güven aralığı hesaplar, bu güven aralığının alt sınırını vlb skor olarak kabul eder.\n",
    "\n",
    "bernoulli parametresi p nedir?\n",
    "Bu bir olasılık dağılımıdır. İkili olayların olasılığını hesaplamak için kullanılır. Örneğin; bir yazı tura olayının yazı gelmesi olasılığını hesaplamak için kullanılır. Yine aynı şekilde iki sonucu olan herhangi bir olayın nasıl gerçekleşebileceği olasılığını örneğin bir dönüşüm oranı metriği gibi bir metriğe göre düşünüldüğünde yine bu dönüşüm oranına ilişkin değerlendirmenin gerçekleşmesi olasılığı gibi ikili olayların gerçekleşme olasılığını hesaplamak için kullanılan bir olasılık dağılımıdır.\n",
    "Bizim bu olasılık dağılımı ile ilgili bir işimiz yok. Bu olasılık dağılımındaki p parametresi, yani bir olayın gözlenmesi durumuyla ilgili olasılıktır. \"Bizim buradaki ana odağımız nedir?\" \n",
    "Bir olayın gerçekleşme oşlasılığı diye ifade ettiğimiz olay nedir? Up olayıdır.\n",
    "Yani up / bütün olay dediğimizde buradaki orana ilişkin bize bir güven aralığı verir.\n",
    "Neden böyle bir güven aralığı, olasılıksal hesap gibi işlemlere girdik?\n",
    "!!! Çok değerli bir nokta var burada. Dikkat! Bizim elimizde ilgili bütün etkileşimler yok. Yani diyelim ki bir kullanıcı bir yorum yaptı. Bu yoruma bazı etkileşimler geldi. Beğendi, beğenmedi gibi bazı etkileşimler geldi ama gelebilecek olası bütün etkileşimleri bilmiyorum. Bütün veri elimde yok ama elimde bir ÖRNEKLEM var.\n",
    "Örneğin, 600 tane like, 400 tane dislike içeren bir örneklem var. 1000 tane dolaysıyla var olanların içerisinden bir up oranım var. Buradan öyle bir genelleme yapmak istiyorum ki bilimsel olsun, bunu bütün kitleye yansıtabileyim ve bana güvenilir bir referans noktası versin. Dolaysıyla bu problemi bir olasılık problemi olarak ele aldığımızda ve bu ilgilendiğimiz olayı ifade eden oran değeri üzerinden bir güven aralığı hesapladığımızda elimizde çok değerli şöyle bir bilgi olacak.\n",
    "\n",
    "Örneğin:\n",
    "up sayımız kaçtı? 600, down sayımız kaçtı 400. Burada up oranımız nedir? 0.6 dır.\n",
    "Dikkat! Bu 0.6 ifadesi için bir güven aralığı hesapladığımızda şunu diyor oluruz; 0.5 ile 0.7 ifadeleri gibi örnek olarak bazı aralıklar belirleriz ve artık alimizde şu yorum olur. İstatistiksel olarak şunu diyebiliyorum, 100 kullanıcıdan 95 i bu yorumla ilgili bir etkileşim sağladığında %5 yanılma payım olmakla birlikte bu yorumun up oranı 0,5 ile 0,7 arasında olacaktır. Ne kadar değerli, ne kadar güzel bir yorum yapma imkanı elde ettik. Daha önce elimizde sadece 0.6 diye bir değer vardı ve bu bir örneklem değeriydi.\n",
    "Madem bu bir örneklem ve madem benim de öyle bir skora ihtiyacım var ki bunu bütün kitleye genelleyebileyim düşüncem var. Dolaysıyla şöyle bir şey yapmış oluyorum. Bu değer(0.6) için güven aralığı hesaplıyorum. Bu güven aralığı ile ilgili artık şöyle bir yorum yapabilirim. Bu yoruma yapılacak olan etkileşimler açısından up oranım hepful oranım, like oranım istatistiksel olarak %95 güven ile 0.5 ile 0.7 arasında olacaktır diyorum. Bunu üzerinden bunutek bir skora çevirmem gerektiği için de diyorum ki, alt sınır olan 0.5 i skor olarak belirliyorum.\n",
    "Böylece bütün gözlem birimleri yani buradaki yorumlar, review ler, başka bir senaryoda item lar veya product lar da olabilir. Önemi yok. Önemli olan burada binary, ikili bir değerlendirmeyle ilgilenip \n",
    "ilgilenmeme durumumuz. Dolaysıyla bunu bütün gözlem birimleri için yaptığımda her birisi için garanti bir alt skorum var. Bu garanti alt skorumu referans alarak bunları sıralayabilirim. Böylece aslında binary, ikili rate leri de aslında hesaplamış oluyorum. Yani bu bir rate hesabı olarak kullanılır ve aynı zamanda buna dayalı olarak bir skorlama yapılır. 5 yıldızlı ürünlerde bir web sitesine yansıtma kaygımız vardı. Bu kaygımız yok. Dolaysıyla hesapladığımız bu rate, arka tarafta biizm bildiğimiz her bir review için rate olacak. Ben buna göre yorumları sıralayabilirim. Bunu hemen değerlendirelim.\n",
    "\n",
    "Like - Dislike = 600 - 400\n",
    "Up Oranı = 0.6\n",
    "Bu yorumun up oranı = 0.5 0.7 arasındadır.\n",
    "Alt Skor olarak belirlenen 0.5 i skor olarak belirliyorum diyorum."
   ]
  },
  {
   "cell_type": "code",
   "execution_count": 41,
   "id": "f56b5e68",
   "metadata": {},
   "outputs": [],
   "source": [
    "def wilson_lower_bound(up, down, confidince = 0.95):\n",
    "    #wilson Lower Bound Score hesapla\n",
    "    #-Bernoulli parametresi p çin hesaplanacak güven aralığının alt sınırı WLB skoru olarak kabul edilir.\n",
    "    #-Hesaplanacak skor ürün sıralaması için kullanılır.\n",
    "    #-Not:\n",
    "    #Eğer skorlar 1-5 arasındaysa 1-3 negatif, 4-5 pozitif olarak işaretlenir ve bernoulli ye uygun hale getirilebilir.\n",
    "    #Bu beraberinde bazı problemleri de getirir. Bu sebeple bayesian average rating yapmak gerekir.\n",
    "    n = up + down\n",
    "    if n == 0:\n",
    "        return 0\n",
    "    z = st.norm.ppf(1 - (1 - confidince) / 2)\n",
    "    phat = 1.0 * up / n\n",
    "    return (phat + z*z/(2*n) - z * cmath.sqrt((phat - (1 - phat) + z*z/(4*n)) / n)) / (1 + z*z /n)"
   ]
  },
  {
   "cell_type": "code",
   "execution_count": null,
   "id": "99c9ddb9",
   "metadata": {},
   "outputs": [],
   "source": []
  },
  {
   "cell_type": "code",
   "execution_count": 42,
   "id": "d5199c2c",
   "metadata": {},
   "outputs": [
    {
     "data": {
      "text/plain": [
       "(0.5719391034511111+0j)"
      ]
     },
     "execution_count": 42,
     "metadata": {},
     "output_type": "execute_result"
    }
   ],
   "source": [
    "#Fonksiyonumu kayıt ettim ve önceki senaryolara tekrar bakalım:\n",
    "wilson_lower_bound(600, 400)"
   ]
  },
  {
   "cell_type": "code",
   "execution_count": null,
   "id": "7ba11f25",
   "metadata": {},
   "outputs": [],
   "source": []
  },
  {
   "cell_type": "code",
   "execution_count": 43,
   "id": "3f566b5e",
   "metadata": {},
   "outputs": [
    {
     "data": {
      "text/plain": [
       "(0.5437822554716435+0j)"
      ]
     },
     "execution_count": 43,
     "metadata": {},
     "output_type": "execute_result"
    }
   ],
   "source": [
    "#Aynı durumu diğer örnek içinde gerçekleştirelim:\n",
    "wilson_lower_bound(5500, 4500)    "
   ]
  },
  {
   "cell_type": "code",
   "execution_count": null,
   "id": "ce768fb7",
   "metadata": {},
   "outputs": [],
   "source": []
  },
  {
   "cell_type": "markdown",
   "id": "1b034499",
   "metadata": {},
   "source": [
    "Sonuç: Artık bu yönteme göre net bir şekilde söyleyebilirim ki 0.57 sonuçlu örnek daha iyidir. Evet daha fazla olan daha güvenilirdir dedik evet doğru ama güvenilirlik nereye kadar? Yani bunun marjinal etkisi erelerde bunu bilmiyorum.\n",
    "Dolaysıyla WLB bize bu imkanı da sağlıyor. Normalde bu(5500, 4500)  daha iyi diyebiliriz. Evet ama oransal olarak (600, 400) bu daha iyi. Dolaysıyla bu etkiyi yakaladı. Her şey yolunda. Biz yine kullanıcı olarak daha fazla gördüğümüz bu şeye bakabiliriz. Ama bunu şu anda sayı arttığı için ölçemiyoruz. Oran olarak bu daha iyi.\n",
    "Bu yorumun faydalı bulunma skorunun sonucudur bu çıktılar. 0.54 çıktılı örnek o kadar faydalı bulunmamış demek ki. Biz daha çok yorumun faydalı bulunup bulunmadığı ile ilgilendiğimiz için bu zaten bunun kadar faydalı bulunmamış sonucunu çıkarabiliriz.\n",
    "Dolaysıyla, buradaki interaction ın yüksek olması bizim için (5500, 4500) bu daha değerlidir yorumunu yaptırmıyor.\n",
    "Evet İlk yöntemin problemli yanını yakaladı. Bir de ikikinci yöntemde nasıl çalışacak aşağıda bunu gözlemleyelim."
   ]
  },
  {
   "cell_type": "code",
   "execution_count": null,
   "id": "a6985653",
   "metadata": {},
   "outputs": [],
   "source": []
  },
  {
   "cell_type": "code",
   "execution_count": 30,
   "id": "8f7e6b95",
   "metadata": {},
   "outputs": [
    {
     "data": {
      "text/plain": [
       "0.09389300773884474"
      ]
     },
     "execution_count": 30,
     "metadata": {},
     "output_type": "execute_result"
    }
   ],
   "source": [
    "wilson_lower_bound(2, 0)"
   ]
  },
  {
   "cell_type": "code",
   "execution_count": 32,
   "id": "58dfe64a",
   "metadata": {},
   "outputs": [
    {
     "data": {
      "text/plain": [
       "0.785233008615569"
      ]
     },
     "execution_count": 32,
     "metadata": {},
     "output_type": "execute_result"
    }
   ],
   "source": [
    "wilson_lower_bound(100, 1)"
   ]
  },
  {
   "cell_type": "code",
   "execution_count": null,
   "id": "8b91b9d0",
   "metadata": {},
   "outputs": [],
   "source": []
  },
  {
   "cell_type": "code",
   "execution_count": null,
   "id": "899423a4",
   "metadata": {},
   "outputs": [],
   "source": []
  },
  {
   "cell_type": "code",
   "execution_count": 14,
   "id": "d1d50578",
   "metadata": {},
   "outputs": [],
   "source": [
    "# Örnek Uygulama:\n",
    "up = [15, 70, 14, 4, 2, 5, 8, 37, 21, 52, 28, 147, 61, 30, 23, 40, 37, 61, 54, 18, 12, 68]\n",
    "down = [0, 2, 2, 2, 15, 2, 6, 5, 23, 8, 12, 2, 1, 1, 5, 1, 2, 6, 2, 8, 2, 2]\n",
    "comments = pd.DataFrame({\"up\":up, \"down\": down})"
   ]
  },
  {
   "cell_type": "code",
   "execution_count": null,
   "id": "48adc4c8",
   "metadata": {},
   "outputs": [],
   "source": []
  },
  {
   "cell_type": "markdown",
   "id": "03e464b9",
   "metadata": {},
   "source": [
    "Bunu değerlendirmeden önce daha önce görmüş olduğumuz bütün skorları bir getirelim."
   ]
  },
  {
   "cell_type": "code",
   "execution_count": null,
   "id": "78635650",
   "metadata": {},
   "outputs": [],
   "source": []
  },
  {
   "cell_type": "code",
   "execution_count": 37,
   "id": "d6274641",
   "metadata": {},
   "outputs": [],
   "source": [
    "#score_pos_neg_diff\n",
    "comments[\"score_pos_neg_diff\"] = comments.apply(lambda x: score_up_down_diff(x[\"up\"],\n",
    "                                                                             x[\"down\"]), axis =1)"
   ]
  },
  {
   "cell_type": "code",
   "execution_count": 36,
   "id": "b36187bb",
   "metadata": {},
   "outputs": [],
   "source": [
    "#score_average_rating\n",
    "comments[\"score_average_rating\"] = comments.apply(lambda x: score_average_rating(x[\"up\"],\n",
    "                                                                             x[\"down\"]), axis =1)"
   ]
  },
  {
   "cell_type": "code",
   "execution_count": 44,
   "id": "0e95ddb4",
   "metadata": {},
   "outputs": [],
   "source": [
    "#wilson_lower_bound\n",
    "comments[\"wilson_lower_bound\"] = comments.apply(lambda x: wilson_lower_bound(x[\"up\"],\n",
    "                                                                             x[\"down\"]), axis =1)"
   ]
  },
  {
   "cell_type": "code",
   "execution_count": 48,
   "id": "96038f9f",
   "metadata": {},
   "outputs": [
    {
     "data": {
      "text/html": [
       "<div>\n",
       "<style scoped>\n",
       "    .dataframe tbody tr th:only-of-type {\n",
       "        vertical-align: middle;\n",
       "    }\n",
       "\n",
       "    .dataframe tbody tr th {\n",
       "        vertical-align: top;\n",
       "    }\n",
       "\n",
       "    .dataframe thead th {\n",
       "        text-align: right;\n",
       "    }\n",
       "</style>\n",
       "<table border=\"1\" class=\"dataframe\">\n",
       "  <thead>\n",
       "    <tr style=\"text-align: right;\">\n",
       "      <th></th>\n",
       "      <th>up</th>\n",
       "      <th>down</th>\n",
       "      <th>score_pos_neg_diff</th>\n",
       "      <th>score_average_rating</th>\n",
       "      <th>wilson_lower_bound</th>\n",
       "    </tr>\n",
       "  </thead>\n",
       "  <tbody>\n",
       "    <tr>\n",
       "      <th>0</th>\n",
       "      <td>15</td>\n",
       "      <td>0</td>\n",
       "      <td>15.0</td>\n",
       "      <td>1.000000</td>\n",
       "      <td>0.482478+0.000000j</td>\n",
       "    </tr>\n",
       "    <tr>\n",
       "      <th>1</th>\n",
       "      <td>70</td>\n",
       "      <td>2</td>\n",
       "      <td>68.0</td>\n",
       "      <td>0.972222</td>\n",
       "      <td>0.733698+0.000000j</td>\n",
       "    </tr>\n",
       "    <tr>\n",
       "      <th>2</th>\n",
       "      <td>14</td>\n",
       "      <td>2</td>\n",
       "      <td>12.0</td>\n",
       "      <td>0.875000</td>\n",
       "      <td>0.446780+0.000000j</td>\n",
       "    </tr>\n",
       "    <tr>\n",
       "      <th>3</th>\n",
       "      <td>4</td>\n",
       "      <td>2</td>\n",
       "      <td>2.0</td>\n",
       "      <td>0.666667</td>\n",
       "      <td>0.258953+0.000000j</td>\n",
       "    </tr>\n",
       "    <tr>\n",
       "      <th>4</th>\n",
       "      <td>2</td>\n",
       "      <td>15</td>\n",
       "      <td>-13.0</td>\n",
       "      <td>0.117647</td>\n",
       "      <td>0.188122-0.326307j</td>\n",
       "    </tr>\n",
       "    <tr>\n",
       "      <th>5</th>\n",
       "      <td>5</td>\n",
       "      <td>2</td>\n",
       "      <td>3.0</td>\n",
       "      <td>0.714286</td>\n",
       "      <td>0.278585+0.000000j</td>\n",
       "    </tr>\n",
       "    <tr>\n",
       "      <th>6</th>\n",
       "      <td>8</td>\n",
       "      <td>6</td>\n",
       "      <td>2.0</td>\n",
       "      <td>0.571429</td>\n",
       "      <td>0.367037+0.000000j</td>\n",
       "    </tr>\n",
       "    <tr>\n",
       "      <th>7</th>\n",
       "      <td>37</td>\n",
       "      <td>5</td>\n",
       "      <td>32.0</td>\n",
       "      <td>0.880952</td>\n",
       "      <td>0.603566+0.000000j</td>\n",
       "    </tr>\n",
       "    <tr>\n",
       "      <th>8</th>\n",
       "      <td>21</td>\n",
       "      <td>23</td>\n",
       "      <td>-2.0</td>\n",
       "      <td>0.477273</td>\n",
       "      <td>0.479098-0.041772j</td>\n",
       "    </tr>\n",
       "    <tr>\n",
       "      <th>9</th>\n",
       "      <td>52</td>\n",
       "      <td>8</td>\n",
       "      <td>44.0</td>\n",
       "      <td>0.866667</td>\n",
       "      <td>0.638749+0.000000j</td>\n",
       "    </tr>\n",
       "    <tr>\n",
       "      <th>10</th>\n",
       "      <td>28</td>\n",
       "      <td>12</td>\n",
       "      <td>16.0</td>\n",
       "      <td>0.700000</td>\n",
       "      <td>0.498364+0.000000j</td>\n",
       "    </tr>\n",
       "    <tr>\n",
       "      <th>11</th>\n",
       "      <td>147</td>\n",
       "      <td>2</td>\n",
       "      <td>145.0</td>\n",
       "      <td>0.986577</td>\n",
       "      <td>0.819422+0.000000j</td>\n",
       "    </tr>\n",
       "    <tr>\n",
       "      <th>12</th>\n",
       "      <td>61</td>\n",
       "      <td>1</td>\n",
       "      <td>60.0</td>\n",
       "      <td>0.983871</td>\n",
       "      <td>0.723221+0.000000j</td>\n",
       "    </tr>\n",
       "    <tr>\n",
       "      <th>13</th>\n",
       "      <td>30</td>\n",
       "      <td>1</td>\n",
       "      <td>29.0</td>\n",
       "      <td>0.967742</td>\n",
       "      <td>0.608260+0.000000j</td>\n",
       "    </tr>\n",
       "    <tr>\n",
       "      <th>14</th>\n",
       "      <td>23</td>\n",
       "      <td>5</td>\n",
       "      <td>18.0</td>\n",
       "      <td>0.821429</td>\n",
       "      <td>0.514623+0.000000j</td>\n",
       "    </tr>\n",
       "    <tr>\n",
       "      <th>15</th>\n",
       "      <td>40</td>\n",
       "      <td>1</td>\n",
       "      <td>39.0</td>\n",
       "      <td>0.975610</td>\n",
       "      <td>0.658564+0.000000j</td>\n",
       "    </tr>\n",
       "    <tr>\n",
       "      <th>16</th>\n",
       "      <td>37</td>\n",
       "      <td>2</td>\n",
       "      <td>35.0</td>\n",
       "      <td>0.948718</td>\n",
       "      <td>0.634139+0.000000j</td>\n",
       "    </tr>\n",
       "    <tr>\n",
       "      <th>17</th>\n",
       "      <td>61</td>\n",
       "      <td>6</td>\n",
       "      <td>55.0</td>\n",
       "      <td>0.910448</td>\n",
       "      <td>0.681224+0.000000j</td>\n",
       "    </tr>\n",
       "    <tr>\n",
       "      <th>18</th>\n",
       "      <td>54</td>\n",
       "      <td>2</td>\n",
       "      <td>52.0</td>\n",
       "      <td>0.964286</td>\n",
       "      <td>0.696128+0.000000j</td>\n",
       "    </tr>\n",
       "    <tr>\n",
       "      <th>19</th>\n",
       "      <td>18</td>\n",
       "      <td>8</td>\n",
       "      <td>10.0</td>\n",
       "      <td>0.692308</td>\n",
       "      <td>0.450112+0.000000j</td>\n",
       "    </tr>\n",
       "  </tbody>\n",
       "</table>\n",
       "</div>"
      ],
      "text/plain": [
       "     up  down  score_pos_neg_diff  score_average_rating  wilson_lower_bound\n",
       "0    15     0                15.0              1.000000  0.482478+0.000000j\n",
       "1    70     2                68.0              0.972222  0.733698+0.000000j\n",
       "2    14     2                12.0              0.875000  0.446780+0.000000j\n",
       "3     4     2                 2.0              0.666667  0.258953+0.000000j\n",
       "4     2    15               -13.0              0.117647  0.188122-0.326307j\n",
       "5     5     2                 3.0              0.714286  0.278585+0.000000j\n",
       "6     8     6                 2.0              0.571429  0.367037+0.000000j\n",
       "7    37     5                32.0              0.880952  0.603566+0.000000j\n",
       "8    21    23                -2.0              0.477273  0.479098-0.041772j\n",
       "9    52     8                44.0              0.866667  0.638749+0.000000j\n",
       "10   28    12                16.0              0.700000  0.498364+0.000000j\n",
       "11  147     2               145.0              0.986577  0.819422+0.000000j\n",
       "12   61     1                60.0              0.983871  0.723221+0.000000j\n",
       "13   30     1                29.0              0.967742  0.608260+0.000000j\n",
       "14   23     5                18.0              0.821429  0.514623+0.000000j\n",
       "15   40     1                39.0              0.975610  0.658564+0.000000j\n",
       "16   37     2                35.0              0.948718  0.634139+0.000000j\n",
       "17   61     6                55.0              0.910448  0.681224+0.000000j\n",
       "18   54     2                52.0              0.964286  0.696128+0.000000j\n",
       "19   18     8                10.0              0.692308  0.450112+0.000000j"
      ]
     },
     "execution_count": 48,
     "metadata": {},
     "output_type": "execute_result"
    }
   ],
   "source": [
    "comments.head(20)"
   ]
  },
  {
   "cell_type": "code",
   "execution_count": null,
   "id": "10f700a8",
   "metadata": {},
   "outputs": [],
   "source": []
  },
  {
   "cell_type": "code",
   "execution_count": null,
   "id": "f17cff96",
   "metadata": {},
   "outputs": [],
   "source": [
    "Burada bulunan sıralama bir mantık içeriyor mu bakalım:\n",
    "Sıralamada problem var çünkü  11.sırada bulunan 147 ye 2 nin bı sırada olması çok mantıksız.\n",
    "Biz burada wilson_lower_bound değişkenine göre azalan sırayla listeleyeceğiz. \n"
   ]
  },
  {
   "cell_type": "code",
   "execution_count": 49,
   "id": "97e4a171",
   "metadata": {},
   "outputs": [
    {
     "data": {
      "text/html": [
       "<div>\n",
       "<style scoped>\n",
       "    .dataframe tbody tr th:only-of-type {\n",
       "        vertical-align: middle;\n",
       "    }\n",
       "\n",
       "    .dataframe tbody tr th {\n",
       "        vertical-align: top;\n",
       "    }\n",
       "\n",
       "    .dataframe thead th {\n",
       "        text-align: right;\n",
       "    }\n",
       "</style>\n",
       "<table border=\"1\" class=\"dataframe\">\n",
       "  <thead>\n",
       "    <tr style=\"text-align: right;\">\n",
       "      <th></th>\n",
       "      <th>up</th>\n",
       "      <th>down</th>\n",
       "      <th>score_pos_neg_diff</th>\n",
       "      <th>score_average_rating</th>\n",
       "      <th>wilson_lower_bound</th>\n",
       "    </tr>\n",
       "  </thead>\n",
       "  <tbody>\n",
       "    <tr>\n",
       "      <th>11</th>\n",
       "      <td>147</td>\n",
       "      <td>2</td>\n",
       "      <td>145.0</td>\n",
       "      <td>0.986577</td>\n",
       "      <td>0.819422+0.000000j</td>\n",
       "    </tr>\n",
       "    <tr>\n",
       "      <th>1</th>\n",
       "      <td>70</td>\n",
       "      <td>2</td>\n",
       "      <td>68.0</td>\n",
       "      <td>0.972222</td>\n",
       "      <td>0.733698+0.000000j</td>\n",
       "    </tr>\n",
       "    <tr>\n",
       "      <th>21</th>\n",
       "      <td>68</td>\n",
       "      <td>2</td>\n",
       "      <td>66.0</td>\n",
       "      <td>0.971429</td>\n",
       "      <td>0.729705+0.000000j</td>\n",
       "    </tr>\n",
       "    <tr>\n",
       "      <th>12</th>\n",
       "      <td>61</td>\n",
       "      <td>1</td>\n",
       "      <td>60.0</td>\n",
       "      <td>0.983871</td>\n",
       "      <td>0.723221+0.000000j</td>\n",
       "    </tr>\n",
       "    <tr>\n",
       "      <th>18</th>\n",
       "      <td>54</td>\n",
       "      <td>2</td>\n",
       "      <td>52.0</td>\n",
       "      <td>0.964286</td>\n",
       "      <td>0.696128+0.000000j</td>\n",
       "    </tr>\n",
       "    <tr>\n",
       "      <th>17</th>\n",
       "      <td>61</td>\n",
       "      <td>6</td>\n",
       "      <td>55.0</td>\n",
       "      <td>0.910448</td>\n",
       "      <td>0.681224+0.000000j</td>\n",
       "    </tr>\n",
       "    <tr>\n",
       "      <th>15</th>\n",
       "      <td>40</td>\n",
       "      <td>1</td>\n",
       "      <td>39.0</td>\n",
       "      <td>0.975610</td>\n",
       "      <td>0.658564+0.000000j</td>\n",
       "    </tr>\n",
       "    <tr>\n",
       "      <th>9</th>\n",
       "      <td>52</td>\n",
       "      <td>8</td>\n",
       "      <td>44.0</td>\n",
       "      <td>0.866667</td>\n",
       "      <td>0.638749+0.000000j</td>\n",
       "    </tr>\n",
       "    <tr>\n",
       "      <th>16</th>\n",
       "      <td>37</td>\n",
       "      <td>2</td>\n",
       "      <td>35.0</td>\n",
       "      <td>0.948718</td>\n",
       "      <td>0.634139+0.000000j</td>\n",
       "    </tr>\n",
       "    <tr>\n",
       "      <th>13</th>\n",
       "      <td>30</td>\n",
       "      <td>1</td>\n",
       "      <td>29.0</td>\n",
       "      <td>0.967742</td>\n",
       "      <td>0.608260+0.000000j</td>\n",
       "    </tr>\n",
       "    <tr>\n",
       "      <th>7</th>\n",
       "      <td>37</td>\n",
       "      <td>5</td>\n",
       "      <td>32.0</td>\n",
       "      <td>0.880952</td>\n",
       "      <td>0.603566+0.000000j</td>\n",
       "    </tr>\n",
       "    <tr>\n",
       "      <th>14</th>\n",
       "      <td>23</td>\n",
       "      <td>5</td>\n",
       "      <td>18.0</td>\n",
       "      <td>0.821429</td>\n",
       "      <td>0.514623+0.000000j</td>\n",
       "    </tr>\n",
       "    <tr>\n",
       "      <th>10</th>\n",
       "      <td>28</td>\n",
       "      <td>12</td>\n",
       "      <td>16.0</td>\n",
       "      <td>0.700000</td>\n",
       "      <td>0.498364+0.000000j</td>\n",
       "    </tr>\n",
       "    <tr>\n",
       "      <th>0</th>\n",
       "      <td>15</td>\n",
       "      <td>0</td>\n",
       "      <td>15.0</td>\n",
       "      <td>1.000000</td>\n",
       "      <td>0.482478+0.000000j</td>\n",
       "    </tr>\n",
       "    <tr>\n",
       "      <th>8</th>\n",
       "      <td>21</td>\n",
       "      <td>23</td>\n",
       "      <td>-2.0</td>\n",
       "      <td>0.477273</td>\n",
       "      <td>0.479098-0.041772j</td>\n",
       "    </tr>\n",
       "    <tr>\n",
       "      <th>19</th>\n",
       "      <td>18</td>\n",
       "      <td>8</td>\n",
       "      <td>10.0</td>\n",
       "      <td>0.692308</td>\n",
       "      <td>0.450112+0.000000j</td>\n",
       "    </tr>\n",
       "    <tr>\n",
       "      <th>2</th>\n",
       "      <td>14</td>\n",
       "      <td>2</td>\n",
       "      <td>12.0</td>\n",
       "      <td>0.875000</td>\n",
       "      <td>0.446780+0.000000j</td>\n",
       "    </tr>\n",
       "    <tr>\n",
       "      <th>20</th>\n",
       "      <td>12</td>\n",
       "      <td>2</td>\n",
       "      <td>10.0</td>\n",
       "      <td>0.857143</td>\n",
       "      <td>0.416557+0.000000j</td>\n",
       "    </tr>\n",
       "    <tr>\n",
       "      <th>6</th>\n",
       "      <td>8</td>\n",
       "      <td>6</td>\n",
       "      <td>2.0</td>\n",
       "      <td>0.571429</td>\n",
       "      <td>0.367037+0.000000j</td>\n",
       "    </tr>\n",
       "    <tr>\n",
       "      <th>5</th>\n",
       "      <td>5</td>\n",
       "      <td>2</td>\n",
       "      <td>3.0</td>\n",
       "      <td>0.714286</td>\n",
       "      <td>0.278585+0.000000j</td>\n",
       "    </tr>\n",
       "    <tr>\n",
       "      <th>3</th>\n",
       "      <td>4</td>\n",
       "      <td>2</td>\n",
       "      <td>2.0</td>\n",
       "      <td>0.666667</td>\n",
       "      <td>0.258953+0.000000j</td>\n",
       "    </tr>\n",
       "    <tr>\n",
       "      <th>4</th>\n",
       "      <td>2</td>\n",
       "      <td>15</td>\n",
       "      <td>-13.0</td>\n",
       "      <td>0.117647</td>\n",
       "      <td>0.188122-0.326307j</td>\n",
       "    </tr>\n",
       "  </tbody>\n",
       "</table>\n",
       "</div>"
      ],
      "text/plain": [
       "     up  down  score_pos_neg_diff  score_average_rating  wilson_lower_bound\n",
       "11  147     2               145.0              0.986577  0.819422+0.000000j\n",
       "1    70     2                68.0              0.972222  0.733698+0.000000j\n",
       "21   68     2                66.0              0.971429  0.729705+0.000000j\n",
       "12   61     1                60.0              0.983871  0.723221+0.000000j\n",
       "18   54     2                52.0              0.964286  0.696128+0.000000j\n",
       "17   61     6                55.0              0.910448  0.681224+0.000000j\n",
       "15   40     1                39.0              0.975610  0.658564+0.000000j\n",
       "9    52     8                44.0              0.866667  0.638749+0.000000j\n",
       "16   37     2                35.0              0.948718  0.634139+0.000000j\n",
       "13   30     1                29.0              0.967742  0.608260+0.000000j\n",
       "7    37     5                32.0              0.880952  0.603566+0.000000j\n",
       "14   23     5                18.0              0.821429  0.514623+0.000000j\n",
       "10   28    12                16.0              0.700000  0.498364+0.000000j\n",
       "0    15     0                15.0              1.000000  0.482478+0.000000j\n",
       "8    21    23                -2.0              0.477273  0.479098-0.041772j\n",
       "19   18     8                10.0              0.692308  0.450112+0.000000j\n",
       "2    14     2                12.0              0.875000  0.446780+0.000000j\n",
       "20   12     2                10.0              0.857143  0.416557+0.000000j\n",
       "6     8     6                 2.0              0.571429  0.367037+0.000000j\n",
       "5     5     2                 3.0              0.714286  0.278585+0.000000j\n",
       "3     4     2                 2.0              0.666667  0.258953+0.000000j\n",
       "4     2    15               -13.0              0.117647  0.188122-0.326307j"
      ]
     },
     "execution_count": 49,
     "metadata": {},
     "output_type": "execute_result"
    }
   ],
   "source": [
    "#Azalan sıraya göre yapalım:\n",
    "comments.sort_values(\"wilson_lower_bound\", ascending = False)"
   ]
  },
  {
   "cell_type": "code",
   "execution_count": null,
   "id": "5d97bd3e",
   "metadata": {},
   "outputs": [],
   "source": []
  },
  {
   "cell_type": "code",
   "execution_count": null,
   "id": "8b135c91",
   "metadata": {},
   "outputs": [],
   "source": []
  },
  {
   "cell_type": "code",
   "execution_count": null,
   "id": "a7964e54",
   "metadata": {},
   "outputs": [],
   "source": []
  },
  {
   "cell_type": "code",
   "execution_count": null,
   "id": "a534d656",
   "metadata": {},
   "outputs": [],
   "source": []
  },
  {
   "cell_type": "code",
   "execution_count": null,
   "id": "57620bec",
   "metadata": {},
   "outputs": [],
   "source": []
  }
 ],
 "metadata": {
  "kernelspec": {
   "display_name": "Python 3 (ipykernel)",
   "language": "python",
   "name": "python3"
  },
  "language_info": {
   "codemirror_mode": {
    "name": "ipython",
    "version": 3
   },
   "file_extension": ".py",
   "mimetype": "text/x-python",
   "name": "python",
   "nbconvert_exporter": "python",
   "pygments_lexer": "ipython3",
   "version": "3.10.9"
  }
 },
 "nbformat": 4,
 "nbformat_minor": 5
}
